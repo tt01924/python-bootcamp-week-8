{
 "cells": [
  {
   "cell_type": "markdown",
   "id": "284b4d01-65c8-405d-9f15-a597b99b0069",
   "metadata": {},
   "source": [
    "# List Comprehension"
   ]
  },
  {
   "cell_type": "code",
   "execution_count": 3,
   "id": "a1b07b1a-d221-4aee-8193-107ab9307592",
   "metadata": {},
   "outputs": [
    {
     "name": "stdout",
     "output_type": "stream",
     "text": [
      "[0, 1, 2, 3, 4, 5, 6, 7, 8, 9, 10, 11, 12, 13, 14, 15, 16, 17, 18, 19, 20, 21, 22, 23, 24, 25, 26, 27, 28, 29, 30, 31, 32, 33, 34, 35, 36, 37, 38, 39, 40, 41, 42, 43, 44, 45, 46, 47, 48, 49, 50, 51, 52, 53, 54, 55, 56, 57, 58, 59, 60, 61, 62, 63, 64, 65, 66, 67, 68, 69, 70, 71, 72, 73, 74, 75, 76, 77, 78, 79, 80, 81, 82, 83, 84, 85, 86, 87, 88, 89, 90, 91, 92, 93, 94, 95, 96, 97, 98, 99]\n"
     ]
    }
   ],
   "source": [
    "# create a list of ten numbers using list comprehension\n",
    "nums = [x for x in range(100)] # generates a list from 0 up to 100\n",
    "print(nums)"
   ]
  },
  {
   "cell_type": "code",
   "execution_count": 7,
   "id": "365bf489-4dcc-49d1-b86c-3b5a7d2730f7",
   "metadata": {},
   "outputs": [
    {
     "name": "stdout",
     "output_type": "stream",
     "text": [
      "[0, 2, 4, 6, 8]\n"
     ]
    }
   ],
   "source": [
    "# using if statements within list comprehension\n",
    "nums = [ x for x in range(10) if x % 2 == 0] # generates a list of even numbers up to 10\n",
    "print(nums)"
   ]
  },
  {
   "cell_type": "code",
   "execution_count": 9,
   "id": "267b9ee9-2e38-40e4-b088-484e81350797",
   "metadata": {},
   "outputs": [
    {
     "name": "stdout",
     "output_type": "stream",
     "text": [
      "['Even', 'Odd', 'Even', 'Odd', 'Even', 'Odd', 'Even', 'Odd', 'Even', 'Odd']\n"
     ]
    }
   ],
   "source": [
    "# using if/else statements within list comprehension\n",
    "nums = ['Even' if x % 2 == 0 else 'Odd' for x in range(10)]\n",
    "\n",
    "print(nums)"
   ]
  },
  {
   "cell_type": "code",
   "execution_count": 13,
   "id": "3e8c0653-545a-4745-93f5-601698c9b0b9",
   "metadata": {},
   "outputs": [
    {
     "name": "stdout",
     "output_type": "stream",
     "text": [
      "[4, 16, 36, 64]\n"
     ]
    }
   ],
   "source": [
    "# creating a list of squared numbers from another list of numbers using list comprehension\n",
    "nums = [2, 4, 6, 8]\n",
    "squared_nums = [num ** 2 for num in nums] #creates a new list of squared numbers based on nums\n",
    "\n",
    "print(squared_nums)"
   ]
  },
  {
   "cell_type": "code",
   "execution_count": 15,
   "id": "fe747c47-dfcb-4a77-8342-f70e85487436",
   "metadata": {},
   "outputs": [
    {
     "name": "stdout",
     "output_type": "stream",
     "text": [
      "{0: 0, 2: 4, 4: 16, 6: 36, 8: 64}\n"
     ]
    }
   ],
   "source": [
    "# creating a dictionary of even numbers and square values using comprehension\n",
    "numbers = [x for x in range(10)]\n",
    "squares = {num: num**2 for num in numbers if num % 2 ==0}\n",
    "print(squares)"
   ]
  },
  {
   "cell_type": "markdown",
   "id": "04f6566d-b554-4ac2-a709-e3d93ba064d6",
   "metadata": {},
   "source": [
    "# Lambda Functions"
   ]
  },
  {
   "cell_type": "code",
   "execution_count": 18,
   "id": "4fef4ec8-d94a-492d-88ca-c5cd2a778c75",
   "metadata": {},
   "outputs": [
    {
     "data": {
      "text/plain": [
       "16"
      ]
     },
     "execution_count": 18,
     "metadata": {},
     "output_type": "execute_result"
    }
   ],
   "source": [
    "# using a lambda to square a number\n",
    "(lambda x : x**2)(4) # takes in 4 and returns the number squared"
   ]
  },
  {
   "cell_type": "code",
   "execution_count": 20,
   "id": "484f0f71-d4d9-48a2-be03-ddda12a1b81d",
   "metadata": {},
   "outputs": [
    {
     "data": {
      "text/plain": [
       "50"
      ]
     },
     "execution_count": 20,
     "metadata": {},
     "output_type": "execute_result"
    }
   ],
   "source": [
    "# passing multiple arguments into a lambda\n",
    "(lambda x, y : x*y)(10, 5)"
   ]
  },
  {
   "cell_type": "code",
   "execution_count": 22,
   "id": "6bdb4b0e-40f9-4b8e-bf84-fd5c7f4d0aaa",
   "metadata": {},
   "outputs": [
    {
     "name": "stdout",
     "output_type": "stream",
     "text": [
      "<function <lambda> at 0x103f48360>\n",
      "50\n"
     ]
    }
   ],
   "source": [
    "# saving a lambda function into a variable\n",
    "square = lambda x, y: x*y\n",
    "print(square)\n",
    "result = square(10, 5) # calls the lambda function stored in the square variable and returns 5 * 10\n",
    "print(result)"
   ]
  },
  {
   "cell_type": "code",
   "execution_count": 24,
   "id": "ac3d3964-0af3-4b47-aaae-1ccd50420b51",
   "metadata": {},
   "outputs": [
    {
     "name": "stdout",
     "output_type": "stream",
     "text": [
      "10\n"
     ]
    }
   ],
   "source": [
    "# using if/else statements within a lambda to return the greater number\n",
    "greater = lambda x, y: x if x > y else y\n",
    "result = greater(5, 10)\n",
    "print(result)"
   ]
  },
  {
   "cell_type": "code",
   "execution_count": 26,
   "id": "1276e916-dfdd-44f9-808c-5a26fbbc674b",
   "metadata": {},
   "outputs": [
    {
     "name": "stdout",
     "output_type": "stream",
     "text": [
      "10\n",
      "15\n"
     ]
    }
   ],
   "source": [
    "# returning a lambda function from another function\n",
    "def my_func(n):\n",
    "    return lambda x:x * n\n",
    "\n",
    "doubler = my_func(2) # returns equivalent of lambda x : x * 2\n",
    "print(doubler(5)) # will output 10\n",
    "\n",
    "tripler = my_func(3) # returns equivalent of lambda x: x*3\n",
    "print(tripler(5)) # will output 15"
   ]
  },
  {
   "cell_type": "markdown",
   "id": "16b2324b-5708-4d5b-89bf-e637f18dac4f",
   "metadata": {},
   "source": [
    "# Map, reduce, and filter"
   ]
  },
  {
   "cell_type": "code",
   "execution_count": 29,
   "id": "3278ae05-e54a-4528-9438-7536837e5d5d",
   "metadata": {},
   "outputs": [
    {
     "name": "stdout",
     "output_type": "stream",
     "text": [
      "<map object at 0x11f92f070>\n",
      "[54.5, 56.480000000000004, 59.0, 48.56]\n"
     ]
    }
   ],
   "source": [
    "# using the map function without lambdas\n",
    "def convertDeg(C):\n",
    "    return (9/5) * C + 32\n",
    "temps = [12.5, 13.6, 15, 9.2]\n",
    "converted_temps = map(convertDeg, temps) # returns a map object\n",
    "print(converted_temps)\n",
    "\n",
    "converted_temps = list(converted_temps) # type convert map object into list of converted temps\n",
    "print(converted_temps)"
   ]
  },
  {
   "cell_type": "code",
   "execution_count": 31,
   "id": "5d1e65f9-a654-4f3c-93c4-0ec3477a34aa",
   "metadata": {},
   "outputs": [
    {
     "name": "stdout",
     "output_type": "stream",
     "text": [
      "[54.5, 56.480000000000004, 59.0, 48.56]\n"
     ]
    }
   ],
   "source": [
    "# using a map function with lambdas\n",
    "temps = [12.5, 13.6, 15, 9.2]\n",
    "converted_temps = list(map(lambda C : (9/5) * C + 32, temps)) # type convert the map object right away\n",
    "\n",
    "print(converted_temps)"
   ]
  },
  {
   "cell_type": "code",
   "execution_count": 39,
   "id": "814a44eb-a188-4e7c-895d-2a260e5bda1a",
   "metadata": {},
   "outputs": [
    {
     "name": "stdout",
     "output_type": "stream",
     "text": [
      "<filter object at 0x11f92e650>\n",
      "[13.6, 15]\n"
     ]
    }
   ],
   "source": [
    "# using the filter function without lambda functions, filtering out temps below 55F\n",
    "\n",
    "def filterTemps(C):\n",
    "    converted = (9/5) * C + 32\n",
    "    return True if converted > 55 else False # use ternary operator\n",
    "temps = [12.5, 13.6, 15, 9.2]\n",
    "filtered_temps = filter(filterTemps, temps) # returns filter object\n",
    "print(filtered_temps)\n",
    "filtered_temps = list(filtered_temps) # convert filter object to list of filtered data\n",
    "\n",
    "print(filtered_temps)"
   ]
  },
  {
   "cell_type": "code",
   "execution_count": 41,
   "id": "aa49dd77-dbdd-4cae-9032-7f78d851a307",
   "metadata": {},
   "outputs": [
    {
     "name": "stdout",
     "output_type": "stream",
     "text": [
      "[13.6, 15]\n"
     ]
    }
   ],
   "source": [
    "# using the filter function with lambda functions, filtering out temps below 55F\n",
    "temps = [12.5, 13.6, 15, 9.2]\n",
    "filtered_temps = list(filter(lambda C: True if (9/5) *C + 32 > 55 else False, temps)) # type convert the filter\n",
    "print(filtered_temps)"
   ]
  },
  {
   "cell_type": "markdown",
   "id": "35795b6f-2a37-45f0-a8da-95a9722da432",
   "metadata": {},
   "source": [
    "# Recursive functions and memoization\n"
   ]
  },
  {
   "cell_type": "code",
   "execution_count": 44,
   "id": "c404c0f1-f693-483f-8b83-178170a5878e",
   "metadata": {},
   "outputs": [
    {
     "name": "stdout",
     "output_type": "stream",
     "text": [
      "120\n"
     ]
    }
   ],
   "source": [
    "# writing a factorial using recursive functions\n",
    "def factorial(n):\n",
    "    # set your base case!\n",
    "    if n <= 1:\n",
    "        return 1\n",
    "\n",
    "    else:\n",
    "        return factorial(n-1) * n\n",
    "\n",
    "print(factorial(5))"
   ]
  },
  {
   "cell_type": "code",
   "execution_count": 58,
   "id": "722793a5-9c8b-4db7-bc8b-06cfdd26051c",
   "metadata": {},
   "outputs": [
    {
     "name": "stdout",
     "output_type": "stream",
     "text": [
      "8\n"
     ]
    }
   ],
   "source": [
    "# writing the recursive fibonacci sequence\n",
    "def fib(n):\n",
    "    if n <= 1:\n",
    "        return 1\n",
    "    else:\n",
    "        return fib(n-1) + fib(n-2)\n",
    "\n",
    "print(fib(5)) "
   ]
  },
  {
   "cell_type": "code",
   "execution_count": 50,
   "id": "78b792fc-d107-410c-be50-13f4576cdc29",
   "metadata": {},
   "outputs": [
    {
     "name": "stdout",
     "output_type": "stream",
     "text": [
      "12586269025\n"
     ]
    }
   ],
   "source": [
    "# using memoization with the fibonacci sequence\n",
    "\n",
    "cache = {} # used to cache values to be used later\n",
    "\n",
    "def fib(n):\n",
    "    if n in cache:\n",
    "        return cache[n] # return value stored in dictionary\n",
    "\n",
    "    result = 0\n",
    "\n",
    "    # base case\n",
    "    if n <= 1:\n",
    "        result = n\n",
    "    else:\n",
    "        result = fib(n-1) + fib(n-2)\n",
    "\n",
    "    cache[n] = result # save result into dictionary with n as the key\n",
    "\n",
    "    return result\n",
    "\n",
    "print(fib(50)) # calculates almost instantly"
   ]
  },
  {
   "cell_type": "code",
   "execution_count": 60,
   "id": "fcf29cb6-51ab-4fac-a84b-46efeeb221a8",
   "metadata": {},
   "outputs": [
    {
     "data": {
      "text/plain": [
       "12586269025"
      ]
     },
     "execution_count": 60,
     "metadata": {},
     "output_type": "execute_result"
    }
   ],
   "source": [
    "# using @lru_cache, Python's default moization/caching technique\n",
    "from functools import lru_cache\n",
    "@lru_cache() # python's built-in memoization/caching system\n",
    "def fib(n):\n",
    "    if n <= 1:\n",
    "        return n\n",
    "    else:\n",
    "        return fib(n-1) + fib(n-2)\n",
    "\n",
    "fib(50) #calculates almost instantly"
   ]
  },
  {
   "cell_type": "markdown",
   "id": "dfffd66f-2790-4efd-9ff0-9b6ba34c0bf8",
   "metadata": {},
   "source": [
    "## Friday project: Writing a binary search"
   ]
  },
  {
   "cell_type": "code",
   "execution_count": 349,
   "id": "625a84a3-7948-4bfa-904c-37ff0457465f",
   "metadata": {},
   "outputs": [
    {
     "name": "stdout",
     "output_type": "stream",
     "text": [
      "[2, 3, 8, 8, 9, 10, 11, 12, 17, 19]\n",
      "True\n"
     ]
    }
   ],
   "source": [
    "# setting up imports and generating a list of random numbers to work with\n",
    "import random\n",
    "\n",
    "nums = [random.randint(0, 20) for i in range(10)] #create a list of ten numbers between 0 and 20\n",
    "\n",
    "def binarySearch(aList, num):\n",
    "    # step1: sort the list\n",
    "    aList.sort()\n",
    "\n",
    "    # step6: setup a loop to repeat steps 2 through 6 until list is empty\n",
    "    while aList:    \n",
    "        # step2: find the middle index\n",
    "        mid = len(aList) //2 # two slashes means floor division - round down to the nearest whole num\n",
    "    \n",
    "        # step3: check the value at the middle index, if it is equal to num return True\n",
    "        if aList[mid] == num:\n",
    "            return True\n",
    "    \n",
    "        # step4: check if value is greater, if so, cut off right half of list using slicing\n",
    "        elif aList[mid] > num:\n",
    "            aList = aList[ :mid]\n",
    "    \n",
    "        # step5: check if value is less, if so, cut off left half of list using slicing\n",
    "        elif aList[mid] < num:\n",
    "            aList = aList[mid+1: ]\n",
    "\n",
    "    #step7: return False, if it makes it to this line it means the list was empty and num wasn't found\n",
    "    return False\n",
    "        \n",
    "print(sorted(nums)) # for debugging purposes\n",
    "\n",
    "print(binarySearch(nums, 3))"
   ]
  }
 ],
 "metadata": {
  "kernelspec": {
   "display_name": "Python 3 (ipykernel)",
   "language": "python",
   "name": "python3"
  },
  "language_info": {
   "codemirror_mode": {
    "name": "ipython",
    "version": 3
   },
   "file_extension": ".py",
   "mimetype": "text/x-python",
   "name": "python",
   "nbconvert_exporter": "python",
   "pygments_lexer": "ipython3",
   "version": "3.11.7"
  }
 },
 "nbformat": 4,
 "nbformat_minor": 5
}
